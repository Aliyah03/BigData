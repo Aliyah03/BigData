{
  "cells": [
    {
      "cell_type": "markdown",
      "metadata": {
        "id": "view-in-github",
        "colab_type": "text"
      },
      "source": [
        "<a href=\"https://colab.research.google.com/github/Aliyah03/BigData/blob/main/ICP6.ipynb\" target=\"_parent\"><img src=\"https://colab.research.google.com/assets/colab-badge.svg\" alt=\"Open In Colab\"/></a>"
      ]
    },
    {
      "cell_type": "markdown",
      "metadata": {
        "id": "1j4Ab7Q08z9O"
      },
      "source": [
        "#Aliyah Allen\n",
        "#ICP 6"
      ]
    },
    {
      "cell_type": "code",
      "execution_count": 1,
      "metadata": {
        "colab": {
          "base_uri": "https://localhost:8080/"
        },
        "id": "Gtmuzdvw83XW",
        "outputId": "2a3641f2-ce95-4830-e46e-848a8fd83bf3"
      },
      "outputs": [
        {
          "metadata": {
            "tags": null
          },
          "name": "stdout",
          "output_type": "stream",
          "text": [
            "Downloading data from https://storage.googleapis.com/tensorflow/tf-keras-datasets/mnist.npz\n",
            "11490434/11490434 [==============================] - 0s 0us/step\n",
            "(28, 28)\n",
            "784\n",
            "Epoch 1/10\n",
            "235/235 [==============================] - 17s 64ms/step - loss: 0.3301 - accuracy: 0.8984 - val_loss: 0.2297 - val_accuracy: 0.9285\n",
            "Epoch 2/10\n",
            "235/235 [==============================] - 13s 55ms/step - loss: 0.1009 - accuracy: 0.9683 - val_loss: 0.1107 - val_accuracy: 0.9676\n",
            "Epoch 3/10\n",
            "235/235 [==============================] - 13s 55ms/step - loss: 0.0631 - accuracy: 0.9805 - val_loss: 0.0960 - val_accuracy: 0.9743\n",
            "Epoch 4/10\n",
            "235/235 [==============================] - 13s 55ms/step - loss: 0.0454 - accuracy: 0.9864 - val_loss: 0.0756 - val_accuracy: 0.9791\n",
            "Epoch 5/10\n",
            "235/235 [==============================] - 13s 55ms/step - loss: 0.0316 - accuracy: 0.9899 - val_loss: 0.0975 - val_accuracy: 0.9746\n",
            "Epoch 6/10\n",
            "235/235 [==============================] - 13s 56ms/step - loss: 0.0269 - accuracy: 0.9911 - val_loss: 0.1219 - val_accuracy: 0.9676\n",
            "Epoch 7/10\n",
            "235/235 [==============================] - 13s 55ms/step - loss: 0.0214 - accuracy: 0.9934 - val_loss: 0.0767 - val_accuracy: 0.9794\n",
            "Epoch 8/10\n",
            "235/235 [==============================] - 14s 60ms/step - loss: 0.0173 - accuracy: 0.9946 - val_loss: 0.0742 - val_accuracy: 0.9809\n",
            "Epoch 9/10\n",
            "235/235 [==============================] - 13s 55ms/step - loss: 0.0105 - accuracy: 0.9967 - val_loss: 0.0842 - val_accuracy: 0.9802\n",
            "Epoch 10/10\n",
            "235/235 [==============================] - 13s 55ms/step - loss: 0.0108 - accuracy: 0.9966 - val_loss: 0.1159 - val_accuracy: 0.9751\n"
          ]
        }
      ],
      "source": [
        "from keras import Sequential\n",
        "from keras import backend as K\n",
        "from keras.datasets import mnist\n",
        "import numpy as np\n",
        "from keras.layers import Dense,Activation, Dropout, Flatten, Conv2D, MaxPooling2D\n",
        "from keras.utils import to_categorical\n",
        "from keras.layers import Dense,Conv2D,MaxPooling2D,UpSampling2D\n",
        "from keras import Input, Model\n",
        "from keras.preprocessing.image import ImageDataGenerator\n",
        "from keras.models import Sequential\n",
        "import cv2\n",
        "\n",
        "\n",
        "(train_images,train_labels),(test_images, test_labels) = mnist.load_data()\n",
        "\n",
        "\n",
        "# dimensions of our images.\n",
        "img_width, img_height = 150, 150\n",
        "\n",
        "\n",
        "print(train_images.shape[1:])\n",
        "#process the data\n",
        "#1. convert each image of shape 28*28 to 784 dimensional which will be fed to the network as a single feature\n",
        "dimData = np.prod(train_images.shape[1:])\n",
        "print(dimData)\n",
        "train_data = train_images.reshape(train_images.shape[0],dimData)\n",
        "test_data = test_images.reshape(test_images.shape[0],dimData)\n",
        "\n",
        "#convert data to float and scale values between 0 and 1\n",
        "train_data = train_data.astype('float')\n",
        "test_data = test_data.astype('float')\n",
        "#scale data\n",
        "train_data /=255.0\n",
        "test_data /=255.0\n",
        "#change the labels frominteger to one-hot encoding. to_categorical is doing the same thing as LabelEncoder()\n",
        "train_labels_one_hot = to_categorical(train_labels)\n",
        "test_labels_one_hot = to_categorical(test_labels)\n",
        "\n",
        "#creating network\n",
        "model = Sequential()\n",
        "model.add(Dense(512, activation='relu', input_shape=(dimData,)))\n",
        "model.add(Dense(512, activation='relu'))\n",
        "\n",
        "#adding more dense layers\n",
        "model.add(Dense(600, activation='relu'))\n",
        "\n",
        "#changing 'relu' to 'tanh'\n",
        "model.add(Dense(600, activation='tanh'))\n",
        "\n",
        "model.add(Dense(10, activation='softmax'))\n",
        "\n",
        "model.compile(optimizer='rmsprop', loss='categorical_crossentropy', metrics=['accuracy'])\n",
        "history = model.fit(train_data, train_labels_one_hot, batch_size=256, epochs=10, verbose=1,\n",
        "                   validation_data=(test_data, test_labels_one_hot))\n",
        "\n",
        "\n"
      ]
    }
  ],
  "metadata": {
    "colab": {
      "provenance": [],
      "authorship_tag": "ABX9TyNMMP/E6KHpLfAXYL/6M++j",
      "include_colab_link": true
    },
    "kernelspec": {
      "display_name": "Python 3",
      "name": "python3"
    },
    "language_info": {
      "name": "python"
    }
  },
  "nbformat": 4,
  "nbformat_minor": 0
}