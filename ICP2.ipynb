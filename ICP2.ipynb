{
  "nbformat": 4,
  "nbformat_minor": 0,
  "metadata": {
    "colab": {
      "provenance": [],
      "authorship_tag": "ABX9TyP+XkD58iW1KEAFtmtIdP00",
      "include_colab_link": true
    },
    "kernelspec": {
      "name": "python3",
      "display_name": "Python 3"
    },
    "language_info": {
      "name": "python"
    },
    "accelerator": "TPU"
  },
  "cells": [
    {
      "cell_type": "markdown",
      "metadata": {
        "id": "view-in-github",
        "colab_type": "text"
      },
      "source": [
        "<a href=\"https://colab.research.google.com/github/Aliyah03/BigData/blob/main/ICP2.ipynb\" target=\"_parent\"><img src=\"https://colab.research.google.com/assets/colab-badge.svg\" alt=\"Open In Colab\"/></a>"
      ]
    },
    {
      "cell_type": "markdown",
      "source": [
        "#ICP 2\n",
        "#Aliyah Allen"
      ],
      "metadata": {
        "id": "iFHtpKuEFUF0"
      }
    },
    {
      "cell_type": "code",
      "source": [
        "#Mount Google Drive\n",
        "from google.colab import drive\n",
        "drive.mount('/content/drive')"
      ],
      "metadata": {
        "id": "6NrT4qv-FZYx"
      },
      "execution_count": null,
      "outputs": []
    },
    {
      "cell_type": "code",
      "source": [
        "#Question 1\n",
        "import statistics\n",
        "\n",
        "#list of 10 student ages\n",
        "ages = [19, 22, 19, 24, 20, 25, 26, 24, 25, 24]\n",
        "\n",
        "#Sort the list and find the min and max age\n",
        "ages = sorted(ages)\n",
        "max = ages[9]\n",
        "print(\"max is: \", max)\n",
        "min = ages[0]\n",
        "print(\"min is: \", min)\n",
        "\n",
        "#Add the min age and the max age again to the list\n",
        "ages.append(max)\n",
        "ages.append(min)\n",
        "ages = sorted(ages)\n",
        "\n",
        "#Find the median age (one middle item or two middle items divided by two)\n",
        "print(\"median is: \", statistics.median(ages))\n",
        "\n",
        "#Find the average age (sum of all items divided by their number)\n",
        "average = sum(ages) / 12\n",
        "print(\"average is: \", average)\n",
        "\n",
        "#Find the range of the ages (max minus min)\n",
        "range = max - min\n",
        "print(\"range is: \", range)"
      ],
      "metadata": {
        "colab": {
          "base_uri": "https://localhost:8080/"
        },
        "id": "BE90-SyKFhT3",
        "outputId": "5a13781c-4fe4-4ab0-baed-37075967e8ee"
      },
      "execution_count": 22,
      "outputs": [
        {
          "output_type": "stream",
          "name": "stdout",
          "text": [
            "max is:  26\n",
            "min is:  19\n",
            "median is:  24.0\n",
            "average is:  22.75\n",
            "range is:  7\n"
          ]
        }
      ]
    },
    {
      "cell_type": "code",
      "source": [
        "#Question 2\n",
        "\n",
        "#Create an empty dictionary called dog\n",
        "dog = {}\n",
        "\n",
        "#Add name, color, breed, legs, age to the dog dictionary\n",
        "dog.update({'name': 'doggo', 'color':'black', 'breed':'poodle', 'legs':'four', 'age':'1'})\n",
        "\n",
        "#Create a student dictionary and add first_name, last_name, gender, age, marital status, skills, country, city and address as keys for the dictionary\n",
        "student = {'first_name': 'Aliyah', 'last_name': 'Allen', 'gender': 'Female', 'age': '20', 'marital status': 'No', 'skills': 'Typing', 'country': 'US', 'city': 'Kansas City', 'address': 'Avenue'}\n",
        "\n",
        "#Get the length of the student dictionary\n",
        "print(len(student))\n",
        "#Get the value of skills and check the data type, it should be a list\n",
        "print(student.get('skills'))\n",
        "\n",
        "#Modify the skills values by adding one or two skills\n",
        "student.update({'skills': 'Working'})\n",
        "\n",
        "#Get the dictionary keys as a list\n",
        "dogKeys = list(dog.keys())\n",
        "studentKeys = list(student.keys())\n",
        "print(\"dog keys: \", dogKeys)\n",
        "print(\"student keys: \", studentKeys)\n",
        "\n",
        "#Get the dictionary values as a list\n",
        "dogValues = list(dog.values())\n",
        "studentValues = list(student.values())\n",
        "print(\"dog values: \", dogValues)\n",
        "print(\"student values: \", studentValues)\n",
        "\n"
      ],
      "metadata": {
        "colab": {
          "base_uri": "https://localhost:8080/"
        },
        "id": "hokNlV1EJhsM",
        "outputId": "d0a69177-4da4-4e9a-a5ed-182df7914766"
      },
      "execution_count": 42,
      "outputs": [
        {
          "output_type": "stream",
          "name": "stdout",
          "text": [
            "9\n",
            "Typing\n",
            "dog keys:  ['name', 'color', 'breed', 'legs', 'age']\n",
            "student keys:  ['first_name', 'last_name', 'gender', 'age', 'marital status', 'skills', 'country', 'city', 'address']\n",
            "dog values:  ['doggo', 'black', 'poodle', 'four', '1']\n",
            "student values:  ['Aliyah', 'Allen', 'Female', '20', 'No', 'Working', 'US', 'Kansas City', 'Avenue']\n"
          ]
        }
      ]
    },
    {
      "cell_type": "code",
      "source": [
        "#Question 3\n",
        "\n",
        "it_companies = {'Facebook', 'Google', 'Microsoft', 'Apple', 'IBM', 'Oracle', 'Amazon'}\n",
        "A = {19, 22, 24, 20, 25, 26}\n",
        "B = {19, 22, 20, 25, 26, 24, 28, 27}\n",
        "age = [22, 19, 24, 25, 26, 24, 25, 24]\n",
        "\n",
        "#Find the length of the set it_companies\n",
        "print(len(it_companies))\n",
        "\n",
        "#Add 'Twitter' to it_companies\n",
        "it_companies.update({'Twitter'})\n",
        "\n",
        "#Insert multiple IT companies at once to the set it_companies\n",
        "it_companies.update({'Instagram', 'Lenovo', 'HP'})\n",
        "\n",
        "#Remove one of the companies from the set it_companies\n",
        "remove = it_companies.pop()\n",
        "del remove\n",
        "\n",
        "#What is the difference between remove and discard\n",
        "  #discard() removes the specified item and remove() will raise an error if item doesn't exist where discard() will not\n",
        "\n",
        "#Join A and B\n",
        "C = A.copy()\n",
        "C.update(B)\n",
        "\n",
        "print(\"join A and B is: \", C)\n",
        "\n",
        "#Find A intersection B\n",
        "print(\"A intersection B is: \", A.intersection(B))\n",
        "\n",
        "#Is A subset of B\n",
        "  #yes, A is subset B\n",
        "\n",
        "#Are A and B disjoint sets\n",
        "  #no, A and B aren't disjoint sets\n",
        "\n",
        "#Join A with B and B with A\n",
        "joined = B.update(A)\n",
        "print(\"A and B joined is: \", A)\n",
        "\n",
        "joined = A.update(B)\n",
        "print(\"B and A joined is: \", B)\n",
        "\n",
        "#What is the symmetric difference between A and B\n",
        "  #With them joined the symmetric difference is nothing.\n",
        "\n",
        "#Delete the sets completely\n",
        "A.clear()\n",
        "B.clear()\n",
        "\n",
        "#Convert the ages to a set and compare the length of the list and the set.\n",
        "ageSet = (set(age))\n",
        "print(\"Length of list is: \", len(age))\n",
        "print(\"Length of set is: \", len(ageSet))"
      ],
      "metadata": {
        "colab": {
          "base_uri": "https://localhost:8080/"
        },
        "id": "zXjvG9KFOXcf",
        "outputId": "e7e75f30-e620-4b98-fec3-4027ca18309d"
      },
      "execution_count": 46,
      "outputs": [
        {
          "output_type": "stream",
          "name": "stdout",
          "text": [
            "7\n",
            "join A and B is:  {19, 20, 22, 24, 25, 26, 27, 28}\n",
            "A intersection B is:  {19, 20, 22, 24, 25, 26}\n",
            "A and B joined is:  {19, 20, 22, 24, 25, 26}\n",
            "B and A joined is:  {19, 20, 22, 24, 25, 26, 27, 28}\n",
            "Length of list is:  8\n",
            "Length of set is:  5\n"
          ]
        }
      ]
    },
    {
      "cell_type": "code",
      "source": [
        "#Question 4\n",
        "\n",
        "#Create a class Employee and then do the following\n",
        "#Create a data member to count the number of Employees\n",
        "#Create a constructor to initialize name, family, salary, department\n",
        "#Create a function to average salary\n",
        "\n",
        "class Employee:\n",
        "  def __init__(self, name, family, salary, department):\n",
        "    self.firstname = name\n",
        "    self.family = family\n",
        "    self.salary = salary\n",
        "    self.department = department\n",
        "\n",
        "  def printname(self):\n",
        "    print(self.firstname, self.family, self.salary, self.department)\n",
        "\n",
        "  def averageSalary(self, name):\n",
        "    print(\"Average Salary: \", int(self.salary / 12))\n",
        "\n",
        "class Fulltime(Employee):\n",
        "  pass\n",
        "\n",
        "\n",
        "#Create the instances of Fulltime Employee class and Employee class and call their member functions.\n",
        "x = Employee(\"John\", \"Doe\", 350, \"HR\")\n",
        "x.printname()\n",
        "\n",
        "x = Fulltime(\"Mike\", \"Olsen\", 200, \"Intern\")\n",
        "x.printname()\n",
        "x.averageSalary(\"Mike\")"
      ],
      "metadata": {
        "colab": {
          "base_uri": "https://localhost:8080/"
        },
        "id": "EBezi9GqKZdV",
        "outputId": "71e8e910-409c-4717-e613-4fd4732f5698"
      },
      "execution_count": 85,
      "outputs": [
        {
          "output_type": "stream",
          "name": "stdout",
          "text": [
            "John Doe 350 HR\n",
            "Mike Olsen 200 Intern\n",
            "Average Salary:  16\n",
            "Average Salary:  16\n"
          ]
        }
      ]
    }
  ]
}