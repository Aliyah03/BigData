{
  "nbformat": 4,
  "nbformat_minor": 0,
  "metadata": {
    "colab": {
      "provenance": [],
      "authorship_tag": "ABX9TyOMCx5C/CT1yOc//iv0htUU",
      "include_colab_link": true
    },
    "kernelspec": {
      "name": "python3",
      "display_name": "Python 3"
    },
    "language_info": {
      "name": "python"
    },
    "accelerator": "TPU"
  },
  "cells": [
    {
      "cell_type": "markdown",
      "metadata": {
        "id": "view-in-github",
        "colab_type": "text"
      },
      "source": [
        "<a href=\"https://colab.research.google.com/github/Aliyah03/BigData/blob/main/ICP1.ipynb\" target=\"_parent\"><img src=\"https://colab.research.google.com/assets/colab-badge.svg\" alt=\"Open In Colab\"/></a>"
      ]
    },
    {
      "cell_type": "code",
      "source": [],
      "metadata": {
        "id": "MjskCD16L6GV"
      },
      "execution_count": null,
      "outputs": []
    },
    {
      "cell_type": "markdown",
      "source": [
        "#ICP 1"
      ],
      "metadata": {
        "id": "pWdlw3aTLrVM"
      }
    },
    {
      "cell_type": "code",
      "source": [
        "#Mount Google Drive\n",
        "from google.colab import drive\n",
        "drive.mount('/content/drive')"
      ],
      "metadata": {
        "colab": {
          "base_uri": "https://localhost:8080/"
        },
        "id": "0hDXrSI7LtgG",
        "outputId": "8f5a5da2-c0b4-430d-cc02-c431664eb0d0"
      },
      "execution_count": 2,
      "outputs": [
        {
          "output_type": "stream",
          "name": "stdout",
          "text": [
            "Mounted at /content/drive\n"
          ]
        }
      ]
    },
    {
      "cell_type": "code",
      "source": [
        "#input the string \"python\" as a list of characters from console\n",
        "str = \"python\"\n",
        "\n",
        "#delete at least 2 characters\n",
        "newStr = str[:4]\n",
        "\n",
        "#reverse the resultant string and print it\n",
        "print(newStr[::-1])\n"
      ],
      "metadata": {
        "colab": {
          "base_uri": "https://localhost:8080/"
        },
        "id": "kPeJf3Q5NTGi",
        "outputId": "fe017115-6d9e-4aa4-9a42-3404d7473c34"
      },
      "execution_count": 25,
      "outputs": [
        {
          "output_type": "stream",
          "name": "stdout",
          "text": [
            "htyp\n"
          ]
        }
      ]
    },
    {
      "cell_type": "code",
      "source": [
        "#take 2 numbers from user\n",
        "numOne = input(\"Enter your 1st value: \")\n",
        "numTwo = input(\"Enter your 2nd value: \")\n",
        "\n",
        "#perform 4 arithmetic operations on them\n",
        "sum = int(numOne) + int(numTwo)\n",
        "print(sum)\n",
        "diff = int(numOne) - int(numTwo)\n",
        "print(diff)\n",
        "product = int(numOne ) * int(numTwo)\n",
        "print(product)\n",
        "quotient = int(numOne) // int(numTwo)\n",
        "print(quotient)"
      ],
      "metadata": {
        "id": "WaCv2tEtRR-N",
        "outputId": "cb6aaacf-e581-431f-daf2-6ea762ebede7",
        "colab": {
          "base_uri": "https://localhost:8080/"
        }
      },
      "execution_count": 34,
      "outputs": [
        {
          "output_type": "stream",
          "name": "stdout",
          "text": [
            "Enter your 1st value: 4\n",
            "Enter your 2nd value: 2\n",
            "6\n",
            "2\n",
            "8\n",
            "2\n"
          ]
        }
      ]
    },
    {
      "cell_type": "code",
      "source": [
        "#accepts a sentence and replace each occurence of 'python' with 'pythons'\n",
        "sentence = input(\"Enter a sentence: \")\n",
        "sentence.replace('python','pythons')"
      ],
      "metadata": {
        "id": "jKWRib0lTp6l",
        "outputId": "2517668f-055f-4a7c-b4bd-cb38842b849f",
        "colab": {
          "base_uri": "https://localhost:8080/",
          "height": 53
        }
      },
      "execution_count": 36,
      "outputs": [
        {
          "name": "stdout",
          "output_type": "stream",
          "text": [
            "Enter a sentence: I love playing with python\n"
          ]
        },
        {
          "output_type": "execute_result",
          "data": {
            "text/plain": [
              "'I love playing with pythons'"
            ],
            "application/vnd.google.colaboratory.intrinsic+json": {
              "type": "string"
            }
          },
          "metadata": {},
          "execution_count": 36
        }
      ]
    },
    {
      "cell_type": "code",
      "source": [
        "#if statement conditions to print letter grade based on input class score\n",
        "classScore = float(input(\"Enter class score: \"))\n",
        "\n",
        "if classScore >= 90.0:\n",
        "  print('A')\n",
        "elif classScore >= 80.0:\n",
        "  print('B')\n",
        "elif classScore >= 70.0:\n",
        "  print('C')\n",
        "elif classScore >= 60.0:\n",
        "  print('D')\n",
        "else:\n",
        "  print('F')\n"
      ],
      "metadata": {
        "id": "gipQYtGeeCZr",
        "outputId": "d3b5d451-e773-46e0-dc51-efbb2f08facf",
        "colab": {
          "base_uri": "https://localhost:8080/"
        }
      },
      "execution_count": 9,
      "outputs": [
        {
          "output_type": "stream",
          "name": "stdout",
          "text": [
            "Enter class score: 96.3\n",
            "A\n"
          ]
        }
      ]
    }
  ]
}