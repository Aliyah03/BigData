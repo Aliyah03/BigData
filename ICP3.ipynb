{
  "nbformat": 4,
  "nbformat_minor": 0,
  "metadata": {
    "colab": {
      "provenance": [],
      "authorship_tag": "ABX9TyOWi3jnXuBiMDHV+kGEdJzP",
      "include_colab_link": true
    },
    "kernelspec": {
      "name": "python3",
      "display_name": "Python 3"
    },
    "language_info": {
      "name": "python"
    }
  },
  "cells": [
    {
      "cell_type": "markdown",
      "metadata": {
        "id": "view-in-github",
        "colab_type": "text"
      },
      "source": [
        "<a href=\"https://colab.research.google.com/github/Aliyah03/BigData/blob/main/ICP3.ipynb\" target=\"_parent\"><img src=\"https://colab.research.google.com/assets/colab-badge.svg\" alt=\"Open In Colab\"/></a>"
      ]
    },
    {
      "cell_type": "markdown",
      "source": [
        "#ICP 3\n",
        "#Aliyah Allen\n"
      ],
      "metadata": {
        "id": "o8IuOPHCIVtH"
      }
    },
    {
      "cell_type": "code",
      "source": [
        "#Question 1\n",
        "\n",
        "#Using NumPy create random vector of size 15 having only Integers in the range 1-20.\n",
        "import numpy as np\n",
        "from numpy import random\n",
        "vec = np.random.randint(20, size=(15))\n",
        "print(\"random vector: \\n\", vec)\n",
        "\n",
        "#Reshape the array to 3 by 5.\n",
        "newVec = vec.reshape(3, 5)\n",
        "print(\"reshaped vector: \\n\", newVec)\n",
        "\n",
        "#Print array shape.\n",
        "print(\"array shape: \\n\", newVec.shape)\n",
        "\n",
        "#Replace the max in each row by 0.\n",
        "np.max(newVec, axis=0)\n",
        "print(\"replacing max to 0: \\n\", newVec)\n"
      ],
      "metadata": {
        "id": "TZd-DonSIjYs"
      },
      "execution_count": null,
      "outputs": []
    },
    {
      "cell_type": "code",
      "source": [
        "#Question 2\n",
        "\n",
        "#Create a 2-D array of 4x3 (4-byte integer elements)\n",
        "import numpy as np\n",
        "x = np.array([[2, 4, 6], [6, 8, 10], [10, 12, 14], [14, 16, 18]], np.int32)\n",
        "\n",
        "#Print the shape\n",
        "print(x.shape)\n",
        "\n",
        "#Print the type\n",
        "print(type(x))\n",
        "\n",
        "#Print the data type of the array\n",
        "print(x.dtype)\n"
      ],
      "metadata": {
        "id": "J5qWTh-5MXsM"
      },
      "execution_count": null,
      "outputs": []
    },
    {
      "cell_type": "code",
      "source": [
        "#Question 3\n",
        "\n",
        "#Compute the sum of the diagonal element of a given array. [[0 1 2][3 4 5]]\n",
        "import numpy as np\n",
        "matrix = np.array([[0, 1, 2], [3, 4, 5]])\n",
        "\n",
        "diag = np.diagonal(matrix)\n",
        "print(np.sum(diag))"
      ],
      "metadata": {
        "id": "6kOSRgi3N6vE"
      },
      "execution_count": null,
      "outputs": []
    },
    {
      "cell_type": "code",
      "source": [
        "#Question 4\n",
        "\n",
        "#To create an array of odd and even numbers between 10 to 70.\n",
        "import numpy as np\n",
        "matrix1 = np.array([15, 55, 46, 21, 38, 50])\n",
        "matrix2 = np.array([16, 56, 47, 22, 39, 51])\n",
        "\n",
        "#To perform at-least three element-wise mathematical operations using two arrays of the same size.\n",
        "add = np.add(matrix1, matrix2)\n",
        "sub = np.subtract(matrix1, matrix2)\n",
        "mult = np.multiply(matrix1, matrix2)\n",
        "print(\"Addition: \", add, \"\\nSubtraction: \", sub, \"\\nMultiplication: \", mult)\n",
        "\n",
        "#To sort a given array by row and column in ascending order. array = [[5.54, 3.38, 7.99], [3.54, 4.38, 6.99], [1.54, 2.39, 9.29]]\n",
        "array = np.array([[5.54, 3.38, 7.99], [3.54, 4.38, 6.99], [1.54, 2.39, 9.29]])\n",
        "print(\"\\nRows in ascending order: \\n\", (np.sort(array)))\n",
        "print(\"\\nColumns in ascending order: \\n\", (np.sort(array, axis=0)))"
      ],
      "metadata": {
        "id": "ggMtkEq7PBKv"
      },
      "execution_count": null,
      "outputs": []
    },
    {
      "cell_type": "code",
      "source": [
        "#Question 5\n",
        "\n",
        "#Declare an array given below using NumPy and find missing data by returning Boolean output (True/False)\n",
        "#Array = [[ 4 2 nan 1], [11 12 14 9], [5 nan 1 nan]]\n",
        "\n",
        "import numpy as np\n",
        "array = np.array([[ 4, 2, np.nan, 1], [11, 12, 14, 9], [5, np.nan, 1, np.nan]])\n",
        "\n",
        "print(\"\\nFind the missing data of the said array:\")\n",
        "print(np.isnan(array))\n"
      ],
      "metadata": {
        "id": "KYz7ErJKSDo8"
      },
      "execution_count": null,
      "outputs": []
    }
  ]
}