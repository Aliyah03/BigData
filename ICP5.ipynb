{
  "nbformat": 4,
  "nbformat_minor": 0,
  "metadata": {
    "colab": {
      "provenance": [],
      "authorship_tag": "ABX9TyOQlyB0yjX3XgSUDiuVTeuc",
      "include_colab_link": true
    },
    "kernelspec": {
      "name": "python3",
      "display_name": "Python 3"
    },
    "language_info": {
      "name": "python"
    }
  },
  "cells": [
    {
      "cell_type": "markdown",
      "metadata": {
        "id": "view-in-github",
        "colab_type": "text"
      },
      "source": [
        "<a href=\"https://colab.research.google.com/github/Aliyah03/BigData/blob/main/ICP5.ipynb\" target=\"_parent\"><img src=\"https://colab.research.google.com/assets/colab-badge.svg\" alt=\"Open In Colab\"/></a>"
      ]
    },
    {
      "cell_type": "markdown",
      "source": [
        "#Aliyah Allen\n",
        "#ICP 5"
      ],
      "metadata": {
        "id": "XnyFdN4kw6er"
      }
    },
    {
      "cell_type": "code",
      "source": [
        "import numpy as np\n",
        "import pandas as pd\n",
        "from sklearn.model_selection import train_test_split\n",
        "from sklearn.metrics import confusion_matrix, classification_report\n",
        "\n",
        "from google.colab import drive\n",
        "drive.mount('/content/gdrive', force_remount=True)\n",
        "import pandas as pd\n",
        "df=pd.read_csv('gdrive/My Drive/Colab Notebooks/Big Data Analytics/glass.csv')\n",
        "#print(df)\n",
        "\n",
        "X= df['RI']\n",
        "y=df['Na']\n",
        "\n",
        "X_train, X_test, y_train, y_test = train_test_split(\n",
        "  X,y , random_state=104,test_size=0.25, shuffle=True)\n",
        "\n",
        "print(X)\n",
        "print(\"\\n\")\n",
        "print(y)"
      ],
      "metadata": {
        "id": "vMt2ILSYw_Tl",
        "colab": {
          "base_uri": "https://localhost:8080/"
        },
        "outputId": "c727814c-631e-46c1-ca0b-ccf209e6d39e"
      },
      "execution_count": 19,
      "outputs": [
        {
          "output_type": "stream",
          "name": "stdout",
          "text": [
            "Mounted at /content/gdrive\n",
            "0      1.52101\n",
            "1      1.51761\n",
            "2      1.51618\n",
            "3      1.51766\n",
            "4      1.51742\n",
            "        ...   \n",
            "209    1.51623\n",
            "210    1.51685\n",
            "211    1.52065\n",
            "212    1.51651\n",
            "213    1.51711\n",
            "Name: RI, Length: 214, dtype: float64\n",
            "\n",
            "\n",
            "0      13.64\n",
            "1      13.89\n",
            "2      13.53\n",
            "3      13.21\n",
            "4      13.27\n",
            "       ...  \n",
            "209    14.14\n",
            "210    14.92\n",
            "211    14.36\n",
            "212    14.38\n",
            "213    14.23\n",
            "Name: Na, Length: 214, dtype: float64\n"
          ]
        }
      ]
    }
  ]
}