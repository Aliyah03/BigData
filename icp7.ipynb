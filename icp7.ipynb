{
  "nbformat": 4,
  "nbformat_minor": 0,
  "metadata": {
    "colab": {
      "provenance": [],
      "authorship_tag": "ABX9TyNCUeVVhMRXGEJlPTrxl9qV",
      "include_colab_link": true
    },
    "kernelspec": {
      "name": "python3",
      "display_name": "Python 3"
    },
    "language_info": {
      "name": "python"
    }
  },
  "cells": [
    {
      "cell_type": "markdown",
      "metadata": {
        "id": "view-in-github",
        "colab_type": "text"
      },
      "source": [
        "<a href=\"https://colab.research.google.com/github/Aliyah03/BigData/blob/main/icp7.ipynb\" target=\"_parent\"><img src=\"https://colab.research.google.com/assets/colab-badge.svg\" alt=\"Open In Colab\"/></a>"
      ]
    },
    {
      "cell_type": "code",
      "execution_count": 33,
      "metadata": {
        "colab": {
          "base_uri": "https://localhost:8080/"
        },
        "id": "xkk-Gu-KXF8m",
        "outputId": "373e96f3-a435-485b-9881-eb8b31fb78a0"
      },
      "outputs": [
        {
          "output_type": "stream",
          "name": "stdout",
          "text": [
            "Model: \"sequential_171\"\n",
            "_________________________________________________________________\n",
            " Layer (type)                Output Shape              Param #   \n",
            "=================================================================\n",
            " conv2d_163 (Conv2D)         (None, 1, 126, 128)       147584    \n",
            "                                                                 \n",
            " activation_162 (Activation  (None, 1, 126, 128)       0         \n",
            " )                                                               \n",
            "                                                                 \n",
            " dropout_94 (Dropout)        (None, 1, 126, 128)       0         \n",
            "                                                                 \n",
            "=================================================================\n",
            "Total params: 147584 (576.50 KB)\n",
            "Trainable params: 147584 (576.50 KB)\n",
            "Non-trainable params: 0 (0.00 Byte)\n",
            "_________________________________________________________________\n"
          ]
        }
      ],
      "source": [
        "#pip install tensorflow\n",
        "from tensorflow.keras.models import Sequential\n",
        "from tensorflow.keras.layers import Conv2D, Activation, MaxPooling2D\n",
        "from tensorflow.keras.layers import Dense, Dropout\n",
        "from tensorflow.keras.layers import Flatten\n",
        "\n",
        "\n",
        "# Create a Sequential model\n",
        "model = Sequential()\n",
        "\n",
        "model.add(Conv2D(32, (3, 3), input_shape=(3, 32, 32)))\n",
        "\n",
        "# Add a Rectifier activation function (ReLU)\n",
        "model.add(Activation('relu'))\n",
        "\n",
        "# Add a Dropout layer with a dropout rate of 20%\n",
        "model.add(Dropout(0.2))\n",
        "\n",
        "model = Sequential()\n",
        "\n",
        "model.add(Conv2D(32, (3, 3), input_shape=(3, 32, 32)))\n",
        "\n",
        "# Add a Rectifier activation function (ReLU)\n",
        "model.add(Activation('relu'))\n",
        "\n",
        "model = Sequential()\n",
        "\n",
        "# Add a Convolutional layer with 64 filters, a 3x3 kernel size, and 'relu' activation\n",
        "model.add(Conv2D(64, (3, 3), input_shape=(3, 64, 64)))\n",
        "model.add(Activation('relu'))\n",
        "\n",
        "# Add a Dropout layer with a dropout rate of 20%\n",
        "model.add(Dropout(0.2))\n",
        "\n",
        "model = Sequential()\n",
        "\n",
        "# Add a Convolutional layer with 64 filters, a 3x3 kernel size, and 'relu' activation\n",
        "model.add(Conv2D(64, (3, 3), input_shape=(3, 64, 64)))\n",
        "model.add(Activation('relu'))\n",
        "\n",
        "model = Sequential()\n",
        "\n",
        "# Add a Convolutional layer with 128 filters, a 3x3 kernel size, and 'relu' activation\n",
        "model.add(Conv2D(128, (3, 3), input_shape=(3, 128, 128)))\n",
        "model.add(Activation('relu'))\n",
        "\n",
        "# Add a Dropout layer with a dropout rate of 20%\n",
        "model.add(Dropout(0.2))\n",
        "\n",
        "model = Sequential()\n",
        "\n",
        "# Add a Convolutional layer with 128 filters, a 3x3 kernel size, and 'relu' activation\n",
        "model.add(Conv2D(128, (3, 3), input_shape=(3, 128, 128)))\n",
        "model.add(Activation('relu'))\n",
        "\n",
        "# Add a Dropout layer with a dropout rate of 20%\n",
        "model.add(Dropout(0.2))\n",
        "\n",
        "# Print the model summary to see the architecture\n",
        "model.summary()\n",
        "\n"
      ]
    }
  ]
}